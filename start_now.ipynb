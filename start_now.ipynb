{
 "cells": [
  {
   "cell_type": "code",
   "execution_count": 1,
   "metadata": {},
   "outputs": [
    {
     "name": "stdout",
     "output_type": "stream",
     "text": [
      "File not found: datatest\\filtered\\filtered_tags.csv\n"
     ]
    }
   ],
   "source": [
    "import os\n",
    "import pandas as pd\n",
    "import ast\n",
    "\n",
    "# Specify the file path\n",
    "data_file = os.path.join(\"datatest\", \"filtered\", \"filtered_tags.csv\")\n",
    "\n",
    "if not os.path.exists(data_file):\n",
    "    print(f\"File not found: {data_file}\")\n",
    "else:\n",
    "    # Read the CSV file\n",
    "    data = pd.read_csv(data_file)\n",
    "    df = pd.DataFrame(data)\n",
    "\n",
    "    if 'tags' in df.columns:\n",
    "        # Convert the tags from string to list and flatten them\n",
    "        all_tags = df['tags'].apply(lambda x: ast.literal_eval(x)).explode()\n",
    "        # Get unique tags\n",
    "        unique_tags = all_tags.unique()\n",
    "\n",
    "        # Create the new folder if it doesn't exist\n",
    "        output_dir = os.path.join(\"great_data\")\n",
    "        os.makedirs(output_dir, exist_ok=True)\n",
    "\n",
    "        # Save the unique tags to a file\n",
    "        tags_file = os.path.join(output_dir, \"tags.txt\")\n",
    "        with open(tags_file, 'w') as f:\n",
    "            for tag in unique_tags:\n",
    "                f.write(f\"{tag}\\n\")\n",
    "\n",
    "        print(f\"Unique tags saved to: {tags_file}\")\n",
    "    else:\n",
    "        print(\"'tags' column not found in the CSV file.\")\n"
   ]
  }
 ],
 "metadata": {
  "kernelspec": {
   "display_name": "venv",
   "language": "python",
   "name": "python3"
  },
  "language_info": {
   "codemirror_mode": {
    "name": "ipython",
    "version": 3
   },
   "file_extension": ".py",
   "mimetype": "text/x-python",
   "name": "python",
   "nbconvert_exporter": "python",
   "pygments_lexer": "ipython3",
   "version": "3.11.4"
  }
 },
 "nbformat": 4,
 "nbformat_minor": 2
}
