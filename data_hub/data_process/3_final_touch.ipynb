{
 "cells": [
  {
   "cell_type": "code",
   "execution_count": 1,
   "metadata": {},
   "outputs": [],
   "source": [
    "import pandas as pd"
   ]
  },
  {
   "cell_type": "code",
   "execution_count": 5,
   "metadata": {},
   "outputs": [],
   "source": [
    "df = pd.read_csv(r\"../data_temp/processed/dataset.csv\")\n"
   ]
  },
  {
   "cell_type": "code",
   "execution_count": 6,
   "metadata": {},
   "outputs": [
    {
     "name": "stdout",
     "output_type": "stream",
     "text": [
      "Files saved successfully!\n"
     ]
    }
   ],
   "source": [
    "# Replace 'yes' in subcategory with 'uncategorized'\n",
    "df['subcategory'] = df['subcategory'].replace('yes', 'uncategorized')\n",
    "\n",
    "# Group by 'category' and 'subcategory' to get unique pairs\n",
    "category_subcategory_df = df[['category', 'subcategory']].drop_duplicates()\n",
    "\n",
    "# Save the new DataFrame to a CSV\n",
    "category_subcategory_df.to_csv(\n",
    "    r\"../../data/category_subcategory.csv\", index=False)\n",
    "\n",
    "# Save the full dataset without 'api_used' column\n",
    "df.drop(columns=['api_used'], inplace=True)\n",
    "df.to_csv(r\"../../data/dataset.csv\", index=False)\n",
    "\n",
    "print(\"Files saved successfully!\")"
   ]
  }
 ],
 "metadata": {
  "kernelspec": {
   "display_name": "venv",
   "language": "python",
   "name": "python3"
  },
  "language_info": {
   "codemirror_mode": {
    "name": "ipython",
    "version": 3
   },
   "file_extension": ".py",
   "mimetype": "text/x-python",
   "name": "python",
   "nbconvert_exporter": "python",
   "pygments_lexer": "ipython3",
   "version": "3.11.4"
  }
 },
 "nbformat": 4,
 "nbformat_minor": 2
}
